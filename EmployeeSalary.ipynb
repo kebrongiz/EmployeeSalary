{
  "nbformat": 4,
  "nbformat_minor": 0,
  "metadata": {
    "colab": {
      "provenance": [],
      "authorship_tag": "ABX9TyPYTCihif6pYHAQBGI75WO3",
      "include_colab_link": true
    },
    "kernelspec": {
      "name": "python3",
      "display_name": "Python 3"
    },
    "language_info": {
      "name": "python"
    }
  },
  "cells": [
    {
      "cell_type": "markdown",
      "metadata": {
        "id": "view-in-github",
        "colab_type": "text"
      },
      "source": [
        "<a href=\"https://colab.research.google.com/github/kebrongiz/EmployeeSalary/blob/main/EmployeeSalary.ipynb\" target=\"_parent\"><img src=\"https://colab.research.google.com/assets/colab-badge.svg\" alt=\"Open In Colab\"/></a>"
      ]
    },
    {
      "cell_type": "code",
      "execution_count": 1,
      "metadata": {
        "id": "AkHPKq9AoCXb"
      },
      "outputs": [],
      "source": [
        "import tensorflow as tf\n",
        "import numpy as np\n",
        "from tensorflow import keras"
      ]
    },
    {
      "cell_type": "code",
      "source": [
        "from keras.engine.training import optimizer\n",
        "# salary_model\n",
        "def salary_model(y_new): \n",
        "   xs = [0, 1, 2, 3, 4, 5, 6,] # number of year\n",
        "   ys = [0.5, 0.6, 0.7, 0.8, 0.9, 1.0, 1.1]\n",
        "   model = keras.Sequential([keras.layers.Dense(units=1, input_shape=[1])])\n",
        "   model.compile(optimizer=\"sgd\", loss=\"mean_squard_error\")\n",
        "   return model.predict(y_new)[0][0]"
      ],
      "metadata": {
        "id": "Sl4wx8tSsQuI"
      },
      "execution_count": 14,
      "outputs": []
    },
    {
      "cell_type": "code",
      "source": [
        "prediction = salary_model([9.0])"
      ],
      "metadata": {
        "colab": {
          "base_uri": "https://localhost:8080/"
        },
        "id": "oiClYm0btuuS",
        "outputId": "3b76eba2-a5a7-4be9-b662-150f3f9271f6"
      },
      "execution_count": 13,
      "outputs": [
        {
          "output_type": "stream",
          "name": "stdout",
          "text": [
            "1/1 [==============================] - 0s 75ms/step\n"
          ]
        }
      ]
    },
    {
      "cell_type": "code",
      "source": [
        "print(prediction*100, \"thousand dollars\")"
      ],
      "metadata": {
        "colab": {
          "base_uri": "https://localhost:8080/"
        },
        "id": "LFv7QvlZvptn",
        "outputId": "7f497503-69c2-420a-c5ac-b35d2aedcbef"
      },
      "execution_count": 12,
      "outputs": [
        {
          "output_type": "stream",
          "name": "stdout",
          "text": [
            "-550.5321979522705 thousand dollars\n"
          ]
        }
      ]
    }
  ]
}